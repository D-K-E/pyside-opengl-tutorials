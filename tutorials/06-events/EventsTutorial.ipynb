{
 "cells": [
  {
   "cell_type": "markdown",
   "metadata": {},
   "source": [
    "## Event Handling for PySide2 OpenGL Widget"
   ]
  },
  {
   "cell_type": "markdown",
   "metadata": {},
   "source": [
    "Welcome to the event handling tutorial for the new OpenGL api of PySide2.\n",
    "\n",
    "By event handling we mean two things: \n",
    "\n",
    "- Acquiring the user input through the aid of other widgets and displaying its effect on scene.\n",
    "\n",
    "- Responding to a state of scene with respect to a condition.\n",
    "\n",
    "We are going to see an example of the first one in this tutorial. \n",
    "For the second one, remember that once a scene is drawn it is as good as gone, because the main use of OpenGL is rendering objects on scene not changing their state.\n",
    "It is possible to do computation on OpenGL of course and we shall see an example in the next tutorial while dealing with light effects, but it is better to do critical computation at the client code rather than in OpenGL.\n",
    "\n",
    "This is also evident in the `qt` api as well. \n",
    "Simply look at the amount of setters with respect to that of getters, if they exist at all. \n",
    "Qt also favors a mindset where you send stuff for rendering only.\n",
    "\n",
    "Now let's see our final application window, where we finally start to use some of the handles that we had defined from the beginning."
   ]
  },
  {
   "cell_type": "code",
   "execution_count": 2,
   "metadata": {},
   "outputs": [
    {
     "data": {
      "text/plain": [
       "CompletedProcess(args=['python', 'app.py'], returncode=0)"
      ]
     },
     "execution_count": 2,
     "metadata": {},
     "output_type": "execute_result"
    }
   ],
   "source": [
    "import subprocess\n",
    "\n",
    "subprocess.run([\"python\", \"app.py\"])"
   ]
  },
  {
   "cell_type": "markdown",
   "metadata": {},
   "source": [
    "It is not very well oriented due to the absence of mouse control but it should give you an idea about how everything works together.\n",
    "\n",
    "We had also changed the content of the `app.py` to better handle the event mechanism. \n",
    "\n",
    "Let's see what's new in `app.py` "
   ]
  },
  {
   "cell_type": "code",
   "execution_count": null,
   "metadata": {},
   "outputs": [],
   "source": [
    "from PySide2 import QtWidgets\n",
    "from tutorials.utils.window import GLWindow as AppWindow\n",
    "from glevents import EventsGL\n",
    "import sys\n",
    "\n",
    "\n",
    "class EventAppWindow(AppWindow):\n",
    "    \"Overriding base class with event methods\"\n",
    "\n",
    "    def __init__(self,\n",
    "                 glwidget: QtWidgets.QOpenGLWidget,\n",
    "                 parent=None,\n",
    "                 ):\n",
    "        super().__init__(glwidget,\n",
    "                         parent)\n",
    "        self.camX.setRange(-180.0, 180.0)\n",
    "        self.camY.setRange(-180.0, 180.0)\n",
    "        self.xSlider.setRange(-180.0, 180.0)\n",
    "        self.ySlider.setRange(-180.0, 180.0)\n",
    "        self.zSlider.setRange(-180.0, 180.0)\n",
    "        self.upBtn.clicked.connect(self.moveCameraForward)\n",
    "        self.downBtn.clicked.connect(self.moveCameraBackward)\n",
    "        self.leftBtn.clicked.connect(self.moveCameraLeft)\n",
    "        self.rightBtn.clicked.connect(self.moveCameraRight)\n",
    "        self.camX.valueChanged.connect(self.turnCameraX)\n",
    "        self.camY.valueChanged.connect(self.turnCameraY)\n",
    "        self.xSlider.valueChanged.connect(self.rotateCubes)\n",
    "        self.ySlider.valueChanged.connect(self.rotateCubes)\n",
    "        self.zSlider.valueChanged.connect(self.rotateCubes)\n",
    "        #\n",
    "        self.lastCamXVal = self.camX.value()\n",
    "        #\n",
    "        self.lastCamYVal = self.camY.value()\n",
    "\n",
    "    def moveGLCamera(self, direction: str):\n",
    "        self.glWidget.moveCamera(direction)\n",
    "\n",
    "    def moveCameraForward(self):\n",
    "        self.moveGLCamera(\"forward\")\n",
    "\n",
    "    def moveCameraBackward(self):\n",
    "        self.moveGLCamera(\"backward\")\n",
    "\n",
    "    def moveCameraLeft(self):\n",
    "        self.moveGLCamera(\"left\")\n",
    "\n",
    "    def moveCameraRight(self):\n",
    "        self.moveGLCamera(\"right\")\n",
    "\n",
    "    def turnCameraX(self, newVal: int):\n",
    "        \"Turn camera around\"\n",
    "        offsetx = newVal - self.lastCamXVal\n",
    "        valy = self.camY.value() - self.lastCamYVal\n",
    "        self.glWidget.turnAround(x=float(offsetx),\n",
    "                                 y=float(valy))\n",
    "        self.lastCamXVal = newVal\n",
    "\n",
    "    def turnCameraY(self, newVal: int):\n",
    "        \"Turn camera around\"\n",
    "        offsety = newVal - self.lastCamYVal\n",
    "        valx = self.camX.value() - self.lastCamXVal\n",
    "        self.glWidget.turnAround(x=float(valx),\n",
    "                                 y=float(offsety))\n",
    "        self.lastCamYVal = newVal\n",
    "\n",
    "    def rotateCubes(self):\n",
    "        rx = self.xSlider.value()\n",
    "        ry = self.ySlider.value()\n",
    "        rz = self.zSlider.value()\n",
    "        self.glWidget.rotateCubes(rx, ry, rz)"
   ]
  },
  {
   "cell_type": "markdown",
   "metadata": {},
   "source": [
    "As you can see, we now have another window which wires the events triggered by other widgets on the window to the glwidget.\n",
    "\n",
    "GLwidget then simply calls the related method.\n",
    "\n",
    "Let's see for example what `turnCameraY` method of the window, which is triggered by a value change in `camY` slider, basically the camera slider with `y` label on top, triggers in glwidget.\n",
    "\n",
    "It calls the `turnAround` method of glwidget with two offset values. Then `turnAround` does the following."
   ]
  },
  {
   "cell_type": "code",
   "execution_count": null,
   "metadata": {},
   "outputs": [],
   "source": [
    "    def turnAround(self, x: float, y: float):\n",
    "        \"\"\n",
    "        self.camera.lookAround(xoffset=x,\n",
    "                               yoffset=y,\n",
    "                               pitchBound=True)\n",
    "        self.update()\n"
   ]
  },
  {
   "cell_type": "markdown",
   "metadata": {},
   "source": [
    "It simply passes these offset values to a camera method. \n",
    "You can check `lookAround` method inside `camera.py`, but it simply assigns new `pitch` and `yaw` values using these offsets then updates the vectors of the camera like front, right, up.\n",
    "\n",
    "More importantly `turnAround` calls the `update` method of the glwidget.\n",
    "The update method is common for qtwidgets. \n",
    "Here it triggers repainting the scene with new values. \n",
    "These values happen to modify the orientation of the camera effectively changing the field of visibility.\n",
    "\n",
    "This has the following implication on code. \n",
    "We need to set the data related to triggered events in the `paintGL` rather than `initializeGL`, since `update` simply recalls `paintGL` for repainting the scene, and `initializeGL` is called only once before the first use of `paintGL`.\n",
    "\n",
    "Let's see now the body of our `paintGL`"
   ]
  },
  {
   "cell_type": "code",
   "execution_count": null,
   "metadata": {},
   "outputs": [],
   "source": [
    "    def paintGL(self):\n",
    "        \"drawing loop\"\n",
    "        funcs = self.context.functions()\n",
    "\n",
    "        # clean up what was drawn\n",
    "        funcs.glClear(\n",
    "            pygl.GL_COLOR_BUFFER_BIT | pygl.GL_DEPTH_BUFFER_BIT\n",
    "        )\n",
    "        self.vao.bind()\n",
    "        self.vbo.bind()\n",
    "\n",
    "        # actual drawing\n",
    "        self.program.bind()\n",
    "        ############ Diff ###############\n",
    "        # Notice that this exactly the same code\n",
    "        # that we had used in CubeGL widget\n",
    "        # I simply copy pasted the same thing\n",
    "        # to paintGL here.\n",
    "        # set projection matrix\n",
    "        projectionMatrix = QMatrix4x4()\n",
    "        projectionMatrix.perspective(\n",
    "            self.camera.zoom,\n",
    "            self.width() / self.height(),\n",
    "            0.2, 100.0)\n",
    "\n",
    "        self.program.setUniformValue('projection',\n",
    "                                     projectionMatrix)\n",
    "\n",
    "        # set view/camera matrix\n",
    "        viewMatrix = self.camera.getViewMatrix()\n",
    "        self.program.setUniformValue('view',\n",
    "                                     viewMatrix)\n",
    "\n",
    "        # bind textures\n",
    "        for i, pos in enumerate(self.cubeCoords):\n",
    "            #\n",
    "            cubeModel = QMatrix4x4()\n",
    "            cubeModel.translate(pos)\n",
    "            angle = 30 * i\n",
    "            cubeModel.rotate(angle, self.rotateVector)\n",
    "            self.program.setUniformValue(\"model\",\n",
    "                                         cubeModel)\n",
    "            self.texture1.bind(0)\n",
    "            self.texture2.bind(1)\n",
    "            funcs.glDrawArrays(\n",
    "                pygl.GL_TRIANGLES,\n",
    "                0,\n",
    "                36\n",
    "            )\n",
    "        self.vbo.release()\n",
    "        self.program.release()\n",
    "        self.texture1.release()\n",
    "        self.texture2.release()"
   ]
  },
  {
   "cell_type": "markdown",
   "metadata": {},
   "source": [
    "Congragulations, that's it!\n",
    "\n",
    "Now you know a big part of 3d rendering. \n",
    "Most of the stuff from now on would be more or less the same thing with fancier shaders and/or objects and/or transformations.  "
   ]
  }
 ],
 "metadata": {
  "kernelspec": {
   "display_name": "Python 3",
   "language": "python",
   "name": "python3"
  },
  "language_info": {
   "codemirror_mode": {
    "name": "ipython",
    "version": 3
   },
   "file_extension": ".py",
   "mimetype": "text/x-python",
   "name": "python",
   "nbconvert_exporter": "python",
   "pygments_lexer": "ipython3",
   "version": "3.7.3"
  }
 },
 "nbformat": 4,
 "nbformat_minor": 2
}
