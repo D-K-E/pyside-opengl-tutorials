{
 "cells": [
  {
   "cell_type": "markdown",
   "metadata": {},
   "source": [
    "## PySide2 OpenGL Texture Tutorial"
   ]
  },
  {
   "cell_type": "markdown",
   "metadata": {},
   "source": [
    "Welcome to PySide2 OpenGL texture tutorial. \n",
    "What is a texture ?\n",
    "\n",
    "Basically a texture is something you can fill vertex area with.\n",
    "For the most part this would mean using images to cover up certain areas. \n",
    "For example, you have drawn a rectangle, you collate and picture of bricks to it and it becomes a brick wall. You collate a picture of stones to it and it becomes a stone wall. \n",
    "\n",
    "If you can use a detailed image then you can create the illusion of such a wall without having to define vertices. You can use 1D, 2D, and 3D textures in opengl. \n",
    "We will cover probably the most common case of using 2D textures.\n",
    "\n",
    "Now let's see the final result before we start looking at the code."
   ]
  },
  {
   "cell_type": "code",
   "execution_count": 16,
   "metadata": {},
   "outputs": [
    {
     "data": {
      "text/plain": [
       "CompletedProcess(args=['python', 'app.py'], returncode=0)"
      ]
     },
     "execution_count": 16,
     "metadata": {},
     "output_type": "execute_result"
    }
   ],
   "source": [
    "import subprocess\n",
    "\n",
    "subprocess.run([\"python\", \"app.py\"])"
   ]
  },
  {
   "cell_type": "markdown",
   "metadata": {},
   "source": [
    "As usual the application window is the same as in the previous tutorials.\n",
    "\n",
    "Let's see the constructor of our gl widget."
   ]
  },
  {
   "cell_type": "code",
   "execution_count": null,
   "metadata": {},
   "outputs": [],
   "source": [
    "class TextureGL(QOpenGLWidget):\n",
    "    \"Texture loading opengl widget\"\n",
    "\n",
    "    def __init__(self, parent=None):\n",
    "        \"Constructor\"\n",
    "        QOpenGLWidget.__init__(self, parent)\n",
    "        tutoTutoDir = os.path.dirname(__file__)\n",
    "        tutoPardir = os.path.join(tutoTutoDir, os.pardir)\n",
    "        tutoPardir = os.path.realpath(tutoPardir)\n",
    "        mediaDir = os.path.join(tutoPardir, \"media\")\n",
    "        shaderDir = os.path.join(mediaDir, \"shaders\")\n",
    "        #\n",
    "        ############## Diff #####################\n",
    "        # please do look at the shader code of \n",
    "        # the texture. It is a little different\n",
    "        # than triangle shader.\n",
    "        availableShaders = [\"texture\"]\n",
    "        self.shaders = {\n",
    "            name: {\n",
    "                \"fragment\": os.path.join(shaderDir, name + \".frag\"),\n",
    "                \"vertex\": os.path.join(shaderDir, name + \".vert\")\n",
    "            } for name in availableShaders\n",
    "        }\n",
    "        ############### Diff #####################\n",
    "        # Notice that we are simply using an image\n",
    "        # The use of QImage is particularly important\n",
    "        # since it facilitates a lot of things with \n",
    "        # with respect to traditional opengl\n",
    "        imdir = os.path.join(mediaDir, \"images\")\n",
    "        imFName = \"im\"\n",
    "        imageFile = os.path.join(imdir, imFName + \"0.png\")\n",
    "        print(\"image file:\", imageFile)\n",
    "        self.imagefile = imageFile\n",
    "        # Notice that we are using\n",
    "        self.image = QImage(imageFile).mirrored()\n",
    "        self.core = \"--coreprofile\" in QCoreApplication.arguments()\n",
    "\n",
    "        # opengl data related\n",
    "        self.context = QOpenGLContext()\n",
    "        self.program = QOpenGLShaderProgram()\n",
    "        self.vao = QOpenGLVertexArrayObject()\n",
    "        self.vbo = QOpenGLBuffer(QOpenGLBuffer.VertexBuffer)\n",
    "        \n",
    "        ################ Diff ##############\n",
    "        # texture is going to be defined\n",
    "        # afterwards but it is important\n",
    "        # to define it right now due to its\n",
    "        # reuse in two different methods\n",
    "        self.texture = None\n",
    "        self.indices = np.array([\n",
    "            0, 1, 3,  # first triangle\n",
    "            1, 2, 3  # second triangle\n",
    "        ], dtype=ctypes.c_uint)\n",
    "\n",
    "        # vertex data of the panel that would hold the image\n",
    "        self.vertexData = np.array([\n",
    "            # viewport position || texture coords\n",
    "            0.5,  0.5,  0.0, 1.0, 1.0,  # top right\n",
    "            0.5,  -0.5, 0.0, 1.0, 0.0,  # bottom right\n",
    "            -0.5, -0.5, 0.0, 0.0, 0.0,  # bottom left\n",
    "            -0.5, 0.5,  0.0, 0.0, 1.0  # top left\n",
    "        ], dtype=ctypes.c_float)"
   ]
  },
  {
   "cell_type": "markdown",
   "metadata": {},
   "source": [
    "Mainly there are two differences.\n",
    "We define a QImage that would be used as the content of the texture.\n",
    "We also define a texture object to be defined later on during the initialization.\n",
    "\n",
    "As a side note, see the texture shader in the media `texture.frag` and `texture.vert`.\n",
    "\n",
    "Let's see the code of `initializeGL`."
   ]
  },
  {
   "cell_type": "code",
   "execution_count": null,
   "metadata": {},
   "outputs": [],
   "source": [
    "    def initializeGL(self):\n",
    "        \"Initialize opengl \"\n",
    "        print('gl initial')\n",
    "        print(self.getGlInfo())\n",
    "        # create context and make it current\n",
    "        self.context.create()\n",
    "        self.context.aboutToBeDestroyed.connect(self.cleanUpGl)\n",
    "\n",
    "        # initialize functions\n",
    "        funcs = self.context.functions()\n",
    "        funcs.initializeOpenGLFunctions()\n",
    "        funcs.glClearColor(1, 0, 1, 1)\n",
    "        \n",
    "        # shader\n",
    "        shaderName = \"texture\"\n",
    "        vshader = self.loadVertexShader(shaderName)\n",
    "        fshader = self.loadFragmentShader(shaderName)\n",
    "\n",
    "        # create shader program\n",
    "        self.program = QOpenGLShaderProgram(self.context)\n",
    "        self.program.addShader(vshader)\n",
    "        self.program.addShader(fshader)\n",
    "\n",
    "        # bind attribute location\n",
    "        self.program.bindAttributeLocation(\"aPos\", 0)\n",
    "        self.program.bindAttributeLocation(\"aTexCoord\", 1)\n",
    "\n",
    "        # link shader program\n",
    "        isLinked = self.program.link()\n",
    "        print(\"shader program is linked: \", isLinked)\n",
    "\n",
    "        # activate shader program to set uniform an attribute values\n",
    "        self.program.bind()\n",
    "        self.program.setUniformValue('myTexture', 0)\n",
    "\n",
    "        # vbo\n",
    "        isVbo = self.vbo.create()\n",
    "        isVboBound = self.vbo.bind()\n",
    "\n",
    "        floatSize = ctypes.sizeof(ctypes.c_float)\n",
    "\n",
    "        # allocate vbo\n",
    "        self.vbo.allocate(self.vertexData.tobytes(),\n",
    "                          floatSize * self.vertexData.size)\n",
    "\n",
    "        ################## Diff #######################\n",
    "        # this how pyside handles textures to those\n",
    "        # who are familiar to opengl it should be self \n",
    "        # evident what it does. Notice that this is \n",
    "        # how we initialize the texture and set \n",
    "        # parameters to it\n",
    "        self.texture = QOpenGLTexture(QOpenGLTexture.Target2D)\n",
    "        self.texture.create()\n",
    "        # new school\n",
    "        self.texture.bind()\n",
    "        self.texture.setData(self.image)\n",
    "        self.texture.setMinMagFilters(QOpenGLTexture.Linear,\n",
    "                                      QOpenGLTexture.Linear)\n",
    "        self.texture.setWrapMode(QOpenGLTexture.DirectionS,\n",
    "                                 QOpenGLTexture.Repeat)\n",
    "        self.texture.setWrapMode(QOpenGLTexture.DirectionT,\n",
    "                                 QOpenGLTexture.Repeat)"
   ]
  },
  {
   "cell_type": "markdown",
   "metadata": {},
   "source": [
    "Now as you can see the main difference is how we set texture.\n",
    "\n",
    "- We provide the target in opengl. Target2D means GL_TEXTURE_2D\n",
    "- We set data to it AFTER binding the texture.\n",
    "- We set other parameters using the related set methods.\n",
    "\n",
    "Now let's see the drawing loop."
   ]
  },
  {
   "cell_type": "code",
   "execution_count": null,
   "metadata": {},
   "outputs": [],
   "source": [
    "    def paintGL(self):\n",
    "        \"paint gl\"\n",
    "        funcs = self.context.functions()\n",
    "        # clean up what was drawn\n",
    "        funcs.glClear(pygl.GL_COLOR_BUFFER_BIT)\n",
    "\n",
    "        self.program.bind()\n",
    "        ############### Diff #################\n",
    "        self.program.enableAttributeArray(0)\n",
    "        self.program.enableAttributeArray(1)\n",
    "        floatSize = ctypes.sizeof(ctypes.c_float)\n",
    "\n",
    "        # set attribute values\n",
    "        self.program.setAttributeBuffer(0,  # viewport position\n",
    "                                        pygl.GL_FLOAT,  # coord type\n",
    "                                        0,  # offset\n",
    "                                        3,\n",
    "                                        5 * floatSize\n",
    "                                        )\n",
    "        self.program.setAttributeBuffer(1,  # viewport position\n",
    "                                        pygl.GL_FLOAT,  # coord type\n",
    "                                        3 * floatSize,  # offset\n",
    "                                        2,\n",
    "                                        5 * floatSize\n",
    "                                        )\n",
    "        # bind texture\n",
    "        self.texture.bind()\n",
    "        funcs.glDrawElements(pygl.GL_TRIANGLES,\n",
    "                             self.indices.size, pygl.GL_UNSIGNED_INT,\n",
    "                             self.indices.tobytes())"
   ]
  },
  {
   "cell_type": "markdown",
   "metadata": {},
   "source": [
    "By far the most different part about rendering texture is the drawing loop. The main difference is that we set values related to VAO in here rather than in `initializeGL`."
   ]
  },
  {
   "cell_type": "markdown",
   "metadata": {},
   "source": [
    "And that's it. Now you know how to load a texture, or how to render an image in opengl. "
   ]
  }
 ],
 "metadata": {
  "kernelspec": {
   "display_name": "Python 3",
   "language": "python",
   "name": "python3"
  },
  "language_info": {
   "codemirror_mode": {
    "name": "ipython",
    "version": 3
   },
   "file_extension": ".py",
   "mimetype": "text/x-python",
   "name": "python",
   "nbconvert_exporter": "python",
   "pygments_lexer": "ipython3",
   "version": "3.7.3"
  }
 },
 "nbformat": 4,
 "nbformat_minor": 2
}
