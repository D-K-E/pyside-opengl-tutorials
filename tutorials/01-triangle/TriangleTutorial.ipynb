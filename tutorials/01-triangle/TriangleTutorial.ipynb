{
 "cells": [
  {
   "cell_type": "markdown",
   "metadata": {},
   "source": [
    "# Hello Triangle"
   ]
  },
  {
   "cell_type": "markdown",
   "metadata": {},
   "source": [
    "Welcome to your very first tutorial on rendering opengl using pyside2.\n",
    "\n",
    "What we are going to do now is pretty simple. We shall draw the `Hello Triangle` more specifically a single yellow triangle.\n",
    "You shall see that once you can draw a triangle, or better a cube, in a graphics api, you would understand the stages of rendering pretty well."
   ]
  },
  {
   "cell_type": "markdown",
   "metadata": {},
   "source": [
    "Now run the cell below to see the final version of our triangle"
   ]
  },
  {
   "cell_type": "code",
   "execution_count": null,
   "metadata": {},
   "outputs": [],
   "source": [
    "import subprocess\n",
    "\n",
    "subprocess.run([\"python\", \"./app.py\"])"
   ]
  },
  {
   "cell_type": "markdown",
   "metadata": {},
   "source": [
    "Cool eh!"
   ]
  },
  {
   "cell_type": "markdown",
   "metadata": {},
   "source": [
    "Now let's do a fresh start and create a directory under this one called `myTriangle`.\n",
    "\n",
    "- Open the terminal\n",
    "- Go to this directory `cd PATH_TO_GITPROJECT/tutorials/01-triangle/`\n",
    "- Create a new directory `mkdir myTriangle`\n",
    "- Inside create to files `touch app.py` and `touch myGLWidget.py`\n",
    "\n",
    "The `app.py` will hold the window in which the gl widget would live, and `myGLWidget.py` simply defines the OpenGL rendering widget.\n",
    "\n",
    "Let's start by filling the easy one the `app.py`"
   ]
  },
  {
   "cell_type": "markdown",
   "metadata": {},
   "source": [
    "### Window Containing the OpenGL Rendering Widget\n",
    "\n",
    "This is essentially no different from a window containing any other widget, which is one of the reasons why you might want to use `pyside2` in the first place. It gives you to capacity to mix up an opengl widget with other traditional ones."
   ]
  },
  {
   "cell_type": "markdown",
   "metadata": {},
   "source": [
    "Here is the list of things we would need:"
   ]
  },
  {
   "cell_type": "code",
   "execution_count": null,
   "metadata": {},
   "outputs": [],
   "source": [
    "from PySide2 import QtWidgets, QtCore, QtGui\n",
    "from myGLWidget import TriangleGL\n",
    "import sys"
   ]
  },
  {
   "cell_type": "markdown",
   "metadata": {},
   "source": [
    "Obviously we have not made a TriangleGL widget yet, but we do need the other ones.\n",
    "\n",
    "Just to show that we can actually mix other widgets in this window. \n",
    "\n",
    "Here is a small function that creates sliders."
   ]
  },
  {
   "cell_type": "code",
   "execution_count": null,
   "metadata": {
    "collapsed": true
   },
   "outputs": [],
   "source": [
    "def createSlider():\n",
    "    \"Create vertical slider widget\"\n",
    "    slider = QtWidgets.QSlider(QtCore.Qt.Vertical)\n",
    "\n",
    "    slider.setRange(0, 360 * 16)\n",
    "    slider.setSingleStep(16)\n",
    "    slider.setPageStep(15 * 16)\n",
    "    slider.setTickInterval(15 * 16)\n",
    "    slider.setTickPosition(QtWidgets.QSlider.TicksRight)\n",
    "    return slider"
   ]
  },
  {
   "cell_type": "markdown",
   "metadata": {},
   "source": [
    "Here is the constructor of our application"
   ]
  },
  {
   "cell_type": "code",
   "execution_count": null,
   "metadata": {},
   "outputs": [],
   "source": [
    "class AppWindow(QtWidgets.QMainWindow):\n",
    "    \"Application window\"\n",
    "\n",
    "    def __init__(self, parent=None):\n",
    "        super().__init__(parent)\n",
    "        self.glWidget = TriangleGL()  # initialized the gl widget\n",
    "        self.xSlider = createSlider() # some slider\n",
    "        self.ySlider = createSlider() # some slider\n",
    "        self.zSlider = createSlider() # some slider\n",
    "\n",
    "        mainLayout = QtWidgets.QHBoxLayout()  # a layout to hold everything together\n",
    "        \n",
    "        # adding widgets to layout \n",
    "        mainLayout.addWidget(self.glWidget) # \n",
    "        mainLayout.addWidget(self.xSlider)\n",
    "        mainLayout.addWidget(self.ySlider)\n",
    "        mainLayout.addWidget(self.zSlider)\n",
    "        \n",
    "        # main parent/central widget to hold the layout\n",
    "        self.mainwidget = QtWidgets.QWidget()\n",
    "        self.mainwidget.setLayout(mainLayout)\n",
    "        \n",
    "        # Its parent is the application window\n",
    "        self.mainwidget.setParent(self)\n",
    "        \n",
    "        # Setting the title of the window\n",
    "        self.setWindowTitle(\"Triangle Opengl widget\")\n",
    "        \n",
    "        # setting its minimum size \n",
    "        # do not forget a resize event does not \n",
    "        # necessarily trigger a resize for the widgets inside\n",
    "        self.setMinimumSize(800, 600)"
   ]
  },
  {
   "cell_type": "markdown",
   "metadata": {},
   "source": [
    "We also add keypress method to easily close the application."
   ]
  },
  {
   "cell_type": "code",
   "execution_count": null,
   "metadata": {
    "collapsed": true
   },
   "outputs": [],
   "source": [
    "    def keyPressEvent(self, event):\n",
    "        if event.key() == QtCore.Qt.Key_Escape:\n",
    "            self.close()\n",
    "        else:\n",
    "            super().keyPressEvent(event)"
   ]
  },
  {
   "cell_type": "markdown",
   "metadata": {},
   "source": [
    "So our final window looks like the following"
   ]
  },
  {
   "cell_type": "code",
   "execution_count": null,
   "metadata": {},
   "outputs": [],
   "source": [
    "from PySide2 import QtWidgets, QtCore, QtGui\n",
    "from myGLWidget import TriangleGL\n",
    "import sys\n",
    "\n",
    "def createSlider():\n",
    "    slider = QtWidgets.QSlider(QtCore.Qt.Vertical)\n",
    "\n",
    "    slider.setRange(0, 360 * 16)\n",
    "    slider.setSingleStep(16)\n",
    "    slider.setPageStep(15 * 16)\n",
    "    slider.setTickInterval(15 * 16)\n",
    "    slider.setTickPosition(QtWidgets.QSlider.TicksRight)\n",
    "    return slider\n",
    "\n",
    "\n",
    "class AppWindow(QtWidgets.QMainWindow):\n",
    "    \"Application window\"\n",
    "\n",
    "    def __init__(self, parent=None):\n",
    "        super().__init__(parent)\n",
    "        self.glWidget = TriangleGL()\n",
    "        self.xSlider = createSlider()\n",
    "        self.ySlider = createSlider()\n",
    "        self.zSlider = createSlider()\n",
    "\n",
    "        mainLayout = QtWidgets.QHBoxLayout()\n",
    "        mainLayout.addWidget(self.glWidget)\n",
    "        mainLayout.addWidget(self.xSlider)\n",
    "        mainLayout.addWidget(self.ySlider)\n",
    "        mainLayout.addWidget(self.zSlider)\n",
    "        self.mainwidget = QtWidgets.QWidget()\n",
    "        self.mainwidget.setLayout(mainLayout)\n",
    "        self.mainwidget.setParent(self)\n",
    "        self.setWindowTitle(\"Triangle Opengl widget\")\n",
    "        self.setMinimumSize(800, 600)\n",
    "\n",
    "    def keyPressEvent(self, event):\n",
    "        if event.key() == QtCore.Qt.Key_Escape:\n",
    "            self.close()\n",
    "        else:\n",
    "            super().keyPressEvent(event)\n",
    "\n",
    "\n",
    "if __name__ == '__main__':\n",
    "    app = QtWidgets.QApplication(sys.argv)\n",
    "    window = AppWindow()\n",
    "    window.show()\n",
    "    res = app.exec_()\n",
    "    sys.exit(res)"
   ]
  },
  {
   "cell_type": "markdown",
   "metadata": {},
   "source": [
    "The last part with `if __name__ == '__main__'` is for dealing with `import` statements.\n",
    "\n",
    "As you can see it is a fairly simple window which contains 3 sliders and an opengl widget.\n",
    "\n",
    "Now let's create our OpenGL widget"
   ]
  }
 ],
 "metadata": {
  "kernelspec": {
   "display_name": "Python 3",
   "language": "python",
   "name": "python3"
  },
  "language_info": {
   "codemirror_mode": {
    "name": "ipython",
    "version": 3
   },
   "file_extension": ".py",
   "mimetype": "text/x-python",
   "name": "python",
   "nbconvert_exporter": "python",
   "pygments_lexer": "ipython3",
   "version": "3.5.2"
  }
 },
 "nbformat": 4,
 "nbformat_minor": 2
}
